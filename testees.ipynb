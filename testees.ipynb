{
 "cells": [
  {
   "cell_type": "code",
   "execution_count": 1,
   "metadata": {},
   "outputs": [],
   "source": [
    "import cv2\n",
    "import numpy as np\n",
    "import glob\n",
    "import matplotlib.pyplot as plt\n",
    "from dt_apriltags import Detector\n",
    "import matplotlib.cm as cm\n",
    "from lane_detection import *\n",
    "from lane_following import *\n"
   ]
  },
  {
   "cell_type": "code",
   "execution_count": 2,
   "metadata": {},
   "outputs": [
    {
     "ename": "KeyboardInterrupt",
     "evalue": "",
     "output_type": "error",
     "traceback": [
      "\u001b[0;31m---------------------------------------------------------------------------\u001b[0m",
      "\u001b[0;31mKeyboardInterrupt\u001b[0m                         Traceback (most recent call last)",
      "Cell \u001b[0;32mIn[2], line 12\u001b[0m\n\u001b[1;32m     10\u001b[0m slopeSet \u001b[39m=\u001b[39m \u001b[39mset\u001b[39m() \n\u001b[1;32m     11\u001b[0m i \u001b[39m+\u001b[39m\u001b[39m=\u001b[39m \u001b[39m1\u001b[39m\n\u001b[0;32m---> 12\u001b[0m ret, frame \u001b[39m=\u001b[39m cap\u001b[39m.\u001b[39;49mread()\n\u001b[1;32m     13\u001b[0m \u001b[39mif\u001b[39;00m(i\u001b[39m%\u001b[39m\u001b[39m1\u001b[39m \u001b[39m==\u001b[39m \u001b[39m0\u001b[39m \u001b[39mand\u001b[39;00m i \u001b[39m>\u001b[39m \u001b[39m800\u001b[39m):\n\u001b[1;32m     14\u001b[0m     lines \u001b[39m=\u001b[39m detect_lines(frame, \u001b[39m30\u001b[39m, \u001b[39m90\u001b[39m, \u001b[39m3\u001b[39m,\u001b[39m10\u001b[39m,\u001b[39m10\u001b[39m)\n",
      "\u001b[0;31mKeyboardInterrupt\u001b[0m: "
     ]
    }
   ],
   "source": [
    "cap = cv2.VideoCapture('AUV_Vid.mkv')\n",
    "img_array = []\n",
    "i = 0\n",
    "ret = True\n",
    "detectedLane = 0\n",
    "failedToDetectLane = 0\n",
    "while ret:\n",
    "    if i > 1300:\n",
    "        break\n",
    "    slopeSet = set() \n",
    "    i += 1\n",
    "    ret, frame = cap.read()\n",
    "    if(i%1 == 0 and i > 800):\n",
    "        lines = detect_lines(frame, 30, 90, 3,10,10)\n",
    "        #print (lines)\n",
    "    \n",
    "        #try: \n",
    "        #    frame = draw_lines(frame, lines,(0, 255, 0))\n",
    "        #    print (\"tried to draw lines\")\n",
    "        #except :\n",
    "       #     pass\n",
    "        try:\n",
    "            lanes = detect_lanes(lines)\n",
    "            #print (\"tried to detect lanes\")\n",
    "            pickedLane = pick_lane(lanes)\n",
    "            frame = draw_Single_lane(frame, pickedLane, (255, 0, 0))\n",
    "            frame = draw_lines(frame, lines,(0, 255, 0))\n",
    "            center_intercept, center_slope = get_lane_center(pickedLane)\n",
    "            xPoint = pickedLane[0][2]\n",
    "            yPoint = pickedLane[0][3]\n",
    "            cv2.line(frame, (int(center_intercept), 1080), (int(xPoint), int(yPoint)), (0,0,255), 3)\n",
    "            rec_dir = recommend_direction(center_intercept, center_slope)\n",
    "            print (rec_dir)\n",
    "            cv2.putText(frame, rec_dir, (0, 130), cv2.FONT_HERSHEY_SIMPLEX, 1, (255, 255, 255), 2, cv2.LINE_AA)\n",
    "            \n",
    "            detectedLane += 1\n",
    "        except:\n",
    "            failedToDetectLane += 1\n",
    "            pass\n",
    "        \n",
    "        \n",
    "        #recommend_direction(center_intercept, center_slope)\n",
    "        img_array.append(frame)\n",
    "        height, width, layers = frame.shape\n",
    "        size = (width,height)\n",
    "        #plt.imshow(cv2.cvtColor(frame, cv2.COLOR_BGR2RGB))\n",
    "        #plt.show()\n",
    "        accuracy = (detectedLane/(detectedLane+failedToDetectLane))*100\n",
    "        cv2.putText(frame, str(accuracy), (0, 300), cv2.FONT_HERSHEY_SIMPLEX, 1, (255, 255, 255), 2, cv2.LINE_AA)\n",
    "        print(f\"accuracy: {accuracy}%\")\n",
    "        print(f\"currently on frame: {i}\")\n",
    "\n",
    "out = cv2.VideoWriter('testVid8.avi',cv2.VideoWriter_fourcc(*'DIVX'), 15, size)\n",
    "\n",
    "for i in range(len(img_array)):\n",
    "    out.write(img_array[i])\n",
    "out.release()#1500 2000\n",
    "\n",
    "        "
   ]
  }
 ],
 "metadata": {
  "kernelspec": {
   "display_name": "bluecv",
   "language": "python",
   "name": "python3"
  },
  "language_info": {
   "codemirror_mode": {
    "name": "ipython",
    "version": 3
   },
   "file_extension": ".py",
   "mimetype": "text/x-python",
   "name": "python",
   "nbconvert_exporter": "python",
   "pygments_lexer": "ipython3",
   "version": "3.9.2"
  },
  "orig_nbformat": 4
 },
 "nbformat": 4,
 "nbformat_minor": 2
}
