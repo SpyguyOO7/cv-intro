{
 "cells": [
  {
   "cell_type": "code",
   "execution_count": null,
   "metadata": {},
   "outputs": [],
   "source": [
    "from apriltag_detection import *\n",
    "import cv2\n",
    "from PIDcontrols import *"
   ]
  },
  {
   "cell_type": "markdown",
   "metadata": {},
   "source": [
    "vertical_pid = PID(30, 0, 0, 100)\n",
    "horizontal_pid = PID(30, 0, 0, 100)"
   ]
  },
  {
   "cell_type": "markdown",
   "metadata": {},
   "source": [
    "video = cv2.VideoCapture('AprilTagTest.mkv')\n",
    "pose = detect_tag(video)\n",
    "headingE = pose[0]\n",
    "depthE = pose[1]"
   ]
  },
  {
   "cell_type": "markdown",
   "metadata": {},
   "source": [
    "horizontal_output, vertical_output = PID_tags((1920, 1080), headingE, depthE, horizontal_pid, vertical_pid)\n"
   ]
  },
  {
   "cell_type": "markdown",
   "metadata": {},
   "source": [
    "horizontal_output, vertical_output\n"
   ]
  },
  {
   "cell_type": "markdown",
   "metadata": {},
   "source": [
    "vertical_pid = PID(30, 0, 0, 100)\n",
    "horizontal_pid = PID(30, 0, 0, 100)"
   ]
  },
  {
   "cell_type": "markdown",
   "metadata": {},
   "source": [
    "video = cv2.VideoCapture('AprilTagTest.mkv')\n",
    "\n",
    "'''fps = int(video.get(cv2.CAP_PROP_FPS))\n",
    "width = int(video.get(cv2.CAP_PROP_FRAME_WIDTH))\n",
    "height = int(video.get(cv2.CAP_PROP_FRAME_HEIGHT))\n",
    "\n",
    "output_file = 'april_video.avi'\n",
    "fourcc = cv2.VideoWriter_fourcc(*'XVID')\n",
    "output_video = cv2.VideoWriter(output_file, fourcc, 30, (width, height))'''\n",
    "\n",
    "ret, frame = video.read()\n",
    "i = 0\n",
    "cameraMatrix = numpy.array([ 1060.71, 0, 960, 0, 1060.71, 540, 0, 0, 1]).reshape((3,3))\n",
    "camera_params = ( cameraMatrix[0,0], cameraMatrix[1,1], cameraMatrix[0,2], cameraMatrix[1,2] )\n",
    "at_detector = Detector(families='tag36h11',\n",
    "                    nthreads=1,\n",
    "                    quad_decimate=1.0,\n",
    "                    quad_sigma=0.0,\n",
    "                    refine_edges=1,\n",
    "                    decode_sharpening=0.25,\n",
    "                    debug=0)\n",
    "\n",
    "PID_horizontal_output_lists = []\n",
    "PID_vertical_output_lists = []\n",
    "\n",
    "while ret:\n",
    "    img = cv2.cvtColor(frame, cv2.COLOR_BGR2GRAY)\n",
    "    color_img = cv2.cvtColor(img, cv2.COLOR_GRAY2RGB)\n",
    "    tags = at_detector.detect(img, True, camera_params, tag_size = 0.1)\n",
    "    for tag in tags:\n",
    "        for idx in range(len(tag.corners)):\n",
    "            cv2.line(color_img, tuple(tag.corners[idx - 1, :].astype(int)), tuple(tag.corners[idx, :].astype(int)), (0, 255, 0))\n",
    "            cv2.circle(color_img, (int(tag.center[0].item()),int(tag.center[1].item())), 50, (0, 0, 255), 2)\n",
    "        \n",
    "        pos = tag.center\n",
    "        horizontal_output, vertical_output = PID_tags(frame.shape, pos[0], pos[1], horizontal_pid, vertical_pid)\n",
    "        PID_horizontal_output_lists.append(horizontal_output)\n",
    "        PID_vertical_output_lists.append(vertical_output)\n",
    "    ret, frame = video.read()"
   ]
  }
 ],
 "metadata": {
  "language_info": {
   "name": "python"
  },
  "orig_nbformat": 4
 },
 "nbformat": 4,
 "nbformat_minor": 2
}
